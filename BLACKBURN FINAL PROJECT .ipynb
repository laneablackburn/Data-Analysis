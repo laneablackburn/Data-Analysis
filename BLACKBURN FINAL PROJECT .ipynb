{
 "cells": [
  {
   "cell_type": "code",
   "execution_count": 1,
   "metadata": {},
   "outputs": [],
   "source": [
    "# I am importing pandas to use as my code database\n",
    "# by using pd I am letting that run behind the code that I have created. \n",
    "# I did not create this data and I cannot confirm or deny that it is true!\n",
    "# Thanks DC for your help! "
   ]
  },
  {
   "cell_type": "markdown",
   "metadata": {},
   "source": [
    "## COMIC BOOKS MADE BY MEN pt.1 \n",
    "\n",
    "This data was analyzed in correspondence to the data set that Walt Hickey used with the main source being the superheroes csv file that we had exported to excel to use for our research later on. Within the process of analyzing this data there are many external sources that were involved to assist the making accurate of our graphs and crosstabs as accurate as possible. I used the __[FiveThirtyEight](www.fivethirtyeight.com)__  article in hopes that it would help in my overall understanding of the data in my graphs. After referencing back to the csv file with more than 24,000 data files, I was able to find a lot of things that my code would have missed which started as the foundation of my questions and the root of my analysis because the data was not as accurate as it could have been so I took it upon myself to debug and perfect the data included in my graphs. While looking and sorting through the data, I made questions that required me to not only look at specific pieces of the data but also help with making my data as correct as possible. \n",
    "\n",
    "\n",
    "My trick here was to start small and sort through the different universes present and then I was able to eventually evolved my analysis to begin looking at specific details, I focused mostly with the alignment and sexuality of the superheroes and how they played a part with one another. The purpose of these graphs was to see how the different characteristics of alignment and sexuality not only changed over time but also how the number of characters fluctuated with each new variable that was a variable within my graph. Similar to Walt Hickeys analysis, the author of \"Comic Books Are Still Made By Men, For Men And About Men\" who analyzed the female and male characters and the alignments, I looked at how time affected the change in characters and all of the influencing factors involved when looking at a data set through a specific lens.    "
   ]
  },
  {
   "cell_type": "code",
   "execution_count": 2,
   "metadata": {},
   "outputs": [],
   "source": [
    "# this is allowing me to just have the codes exist in my files \n",
    "# which will allow me to refer to it later in my code\n",
    "# this code imports pandas and other external libraries.  \n",
    "import pandas as pd\n",
    "import numpy as np\n",
    "import matplotlib.pyplot as plt\n",
    "%matplotlib inline \n",
    "plt.rcParams[\"figure.figsize\"]=(7,5)"
   ]
  },
  {
   "cell_type": "code",
   "execution_count": 3,
   "metadata": {},
   "outputs": [],
   "source": [
    "import matplotlib.style as style \n",
    "style.available \n",
    "style.use(\"ggplot\")"
   ]
  },
  {
   "cell_type": "code",
   "execution_count": 4,
   "metadata": {},
   "outputs": [],
   "source": [
    "# In the next line, I am importing the data that I will be using for my questions.\n",
    "# I have my superhero reading the library of pd and then am telling it to go look in the file superheroData and \n",
    "# then I am having it pull up my data and watching it cre"
   ]
  },
  {
   "cell_type": "code",
   "execution_count": 5,
   "metadata": {},
   "outputs": [],
   "source": [
    "superhero = pd.read_csv(\"superheroData.csv\", parse_dates = [\"FIRST_YEAR\"])"
   ]
  },
  {
   "cell_type": "markdown",
   "metadata": {},
   "source": [
    "## How my data came to be pt.2\n",
    "\n",
    "   Now that I have all of the data in the code and imported, it was important to learn to extract my data in a way that will provide me with the numbers that I need to achieve my final conclusion. In order for me to execute this, I had to take the time to remix and reuse the lines of code that was provided in class. The best way that I did this was by making my own varible sets, changing the variable names as well as the colors within my set to make it as unique and specific to me as possible. By following these steps with my code I was able to build my own structure and create my own data conclusion with the information that I wanted and the variables that I needed. Even though I wasn't writing all of my own code, I still came across a couple of errors that I had to fix which werent the easiest. The way that I went about fixing the errors was by treating it like a debug challenge where I would run different tests and comment things out until my data showed up again. The hardest time that within this process was when I was working with my drop conditionals trying to apply that into my data. This required me in all of my graphs to reference back to the data that I was calling out so it would pull in everything except what was listed above basically telling it to pull everything exept one specific data varible. An example of this would be call in all of the alignments except the alignments that read ND.  "
   ]
  },
  {
   "cell_type": "code",
   "execution_count": 6,
   "metadata": {},
   "outputs": [],
   "source": [
    "# I have the first 10 lines printed to make sure that it is going to run\n",
    "# I put in the number 10 because I like to see all of the data that I can insert in my project\n",
    "# If I had just left the pararethesis blank it would have just printed out the first five lines"
   ]
  },
  {
   "cell_type": "code",
   "execution_count": 7,
   "metadata": {},
   "outputs": [
    {
     "data": {
      "text/html": [
       "<div>\n",
       "<style scoped>\n",
       "    .dataframe tbody tr th:only-of-type {\n",
       "        vertical-align: middle;\n",
       "    }\n",
       "\n",
       "    .dataframe tbody tr th {\n",
       "        vertical-align: top;\n",
       "    }\n",
       "\n",
       "    .dataframe thead th {\n",
       "        text-align: right;\n",
       "    }\n",
       "</style>\n",
       "<table border=\"1\" class=\"dataframe\">\n",
       "  <thead>\n",
       "    <tr style=\"text-align: right;\">\n",
       "      <th></th>\n",
       "      <th>UNIVERSE</th>\n",
       "      <th>page_id</th>\n",
       "      <th>name</th>\n",
       "      <th>urlslug</th>\n",
       "      <th>ID</th>\n",
       "      <th>ALIGN</th>\n",
       "      <th>IS_AVENGER</th>\n",
       "      <th>AVENGER_STATUS</th>\n",
       "      <th>AVENGER_YEAR</th>\n",
       "      <th>EYES</th>\n",
       "      <th>HAIR</th>\n",
       "      <th>SEX</th>\n",
       "      <th>SEXUALITY</th>\n",
       "      <th>ALIVE</th>\n",
       "      <th>APPEARANCES</th>\n",
       "      <th>FIRST_MONTH</th>\n",
       "      <th>FIRST_YEAR</th>\n",
       "      <th>DECEASED</th>\n",
       "      <th>RESURRECTED</th>\n",
       "    </tr>\n",
       "  </thead>\n",
       "  <tbody>\n",
       "    <tr>\n",
       "      <th>0</th>\n",
       "      <td>MARVEL</td>\n",
       "      <td>ND</td>\n",
       "      <td>Artificial being (Earth-616)</td>\n",
       "      <td>Artificial_being_(Earth-616)</td>\n",
       "      <td>ND</td>\n",
       "      <td>Bad Characters</td>\n",
       "      <td>NO</td>\n",
       "      <td>ND</td>\n",
       "      <td>ND</td>\n",
       "      <td>ND</td>\n",
       "      <td>No Hair</td>\n",
       "      <td>Agender Characters</td>\n",
       "      <td>Heterosexual Characters</td>\n",
       "      <td>Living Characters</td>\n",
       "      <td>2</td>\n",
       "      <td>September</td>\n",
       "      <td>1966</td>\n",
       "      <td>ND</td>\n",
       "      <td>ND</td>\n",
       "    </tr>\n",
       "    <tr>\n",
       "      <th>1</th>\n",
       "      <td>MARVEL</td>\n",
       "      <td>ND</td>\n",
       "      <td>Batch-13 (Earth-616)</td>\n",
       "      <td>Batch-13_(Earth-616)</td>\n",
       "      <td>Secret Identity</td>\n",
       "      <td>Bad Characters</td>\n",
       "      <td>NO</td>\n",
       "      <td>ND</td>\n",
       "      <td>ND</td>\n",
       "      <td>Red Eyes</td>\n",
       "      <td>No Hair</td>\n",
       "      <td>Agender Characters</td>\n",
       "      <td>Heterosexual Characters</td>\n",
       "      <td>Living Characters</td>\n",
       "      <td>ND</td>\n",
       "      <td>February</td>\n",
       "      <td>1995</td>\n",
       "      <td>ND</td>\n",
       "      <td>ND</td>\n",
       "    </tr>\n",
       "    <tr>\n",
       "      <th>2</th>\n",
       "      <td>MARVEL</td>\n",
       "      <td>ND</td>\n",
       "      <td>Blockers Bots (Hazards) (Earth-616)</td>\n",
       "      <td>Blockers_Bots_(Hazards)_(Earth-616)</td>\n",
       "      <td>No Dual Identity</td>\n",
       "      <td>Bad Characters</td>\n",
       "      <td>NO</td>\n",
       "      <td>ND</td>\n",
       "      <td>ND</td>\n",
       "      <td>Green Eyes</td>\n",
       "      <td>No Hair</td>\n",
       "      <td>Agender Characters</td>\n",
       "      <td>Heterosexual Characters</td>\n",
       "      <td>Living Characters</td>\n",
       "      <td>1</td>\n",
       "      <td>ND</td>\n",
       "      <td>ND</td>\n",
       "      <td>ND</td>\n",
       "      <td>ND</td>\n",
       "    </tr>\n",
       "    <tr>\n",
       "      <th>3</th>\n",
       "      <td>MARVEL</td>\n",
       "      <td>ND</td>\n",
       "      <td>Carnage (Symbiote) (Earth-616)</td>\n",
       "      <td>Carnage_(Symbiote)_(Earth-616)</td>\n",
       "      <td>Public Identity</td>\n",
       "      <td>Bad Characters</td>\n",
       "      <td>NO</td>\n",
       "      <td>ND</td>\n",
       "      <td>ND</td>\n",
       "      <td>White Eyes</td>\n",
       "      <td>No Hair</td>\n",
       "      <td>Agender Characters</td>\n",
       "      <td>Heterosexual Characters</td>\n",
       "      <td>Living Characters</td>\n",
       "      <td>61</td>\n",
       "      <td>March</td>\n",
       "      <td>1992</td>\n",
       "      <td>ND</td>\n",
       "      <td>ND</td>\n",
       "    </tr>\n",
       "    <tr>\n",
       "      <th>4</th>\n",
       "      <td>MARVEL</td>\n",
       "      <td>ND</td>\n",
       "      <td>Changers (Earth-616)</td>\n",
       "      <td>Changers_(Earth-616)</td>\n",
       "      <td>Secret Identity</td>\n",
       "      <td>Bad Characters</td>\n",
       "      <td>NO</td>\n",
       "      <td>ND</td>\n",
       "      <td>ND</td>\n",
       "      <td>ND</td>\n",
       "      <td>No Hair</td>\n",
       "      <td>Agender Characters</td>\n",
       "      <td>Heterosexual Characters</td>\n",
       "      <td>Living Characters</td>\n",
       "      <td>1</td>\n",
       "      <td>May</td>\n",
       "      <td>1971</td>\n",
       "      <td>ND</td>\n",
       "      <td>ND</td>\n",
       "    </tr>\n",
       "    <tr>\n",
       "      <th>5</th>\n",
       "      <td>MARVEL</td>\n",
       "      <td>ND</td>\n",
       "      <td>Deathwalker Prime (Earth-616)</td>\n",
       "      <td>Deathwalker_Prime_(Earth-616)</td>\n",
       "      <td>No Dual Identity</td>\n",
       "      <td>Bad Characters</td>\n",
       "      <td>NO</td>\n",
       "      <td>ND</td>\n",
       "      <td>ND</td>\n",
       "      <td>Orange Eyes</td>\n",
       "      <td>No Hair</td>\n",
       "      <td>Agender Characters</td>\n",
       "      <td>Heterosexual Characters</td>\n",
       "      <td>Living Characters</td>\n",
       "      <td>1</td>\n",
       "      <td>ND</td>\n",
       "      <td>ND</td>\n",
       "      <td>ND</td>\n",
       "      <td>ND</td>\n",
       "    </tr>\n",
       "    <tr>\n",
       "      <th>6</th>\n",
       "      <td>MARVEL</td>\n",
       "      <td>ND</td>\n",
       "      <td>Dimitrios (Earth-616)</td>\n",
       "      <td>Dimitrios_(Earth-616)</td>\n",
       "      <td>Public Identity</td>\n",
       "      <td>Bad Characters</td>\n",
       "      <td>NO</td>\n",
       "      <td>ND</td>\n",
       "      <td>ND</td>\n",
       "      <td>ND</td>\n",
       "      <td>ND</td>\n",
       "      <td>Agender Characters</td>\n",
       "      <td>Heterosexual Characters</td>\n",
       "      <td>Living Characters</td>\n",
       "      <td>10</td>\n",
       "      <td>ND</td>\n",
       "      <td>ND</td>\n",
       "      <td>ND</td>\n",
       "      <td>ND</td>\n",
       "    </tr>\n",
       "    <tr>\n",
       "      <th>7</th>\n",
       "      <td>MARVEL</td>\n",
       "      <td>ND</td>\n",
       "      <td>Gungnir (Robot) (Earth-616)</td>\n",
       "      <td>Gungnir_(Robot)_(Earth-616)</td>\n",
       "      <td>No Dual Identity</td>\n",
       "      <td>Bad Characters</td>\n",
       "      <td>NO</td>\n",
       "      <td>ND</td>\n",
       "      <td>ND</td>\n",
       "      <td>ND</td>\n",
       "      <td>No Hair</td>\n",
       "      <td>Agender Characters</td>\n",
       "      <td>Heterosexual Characters</td>\n",
       "      <td>Living Characters</td>\n",
       "      <td>3</td>\n",
       "      <td>ND</td>\n",
       "      <td>ND</td>\n",
       "      <td>ND</td>\n",
       "      <td>ND</td>\n",
       "    </tr>\n",
       "    <tr>\n",
       "      <th>8</th>\n",
       "      <td>MARVEL</td>\n",
       "      <td>ND</td>\n",
       "      <td>Iron Man (Taskmaster Robot) (Earth-616)</td>\n",
       "      <td>Iron_Man_(Taskmaster_Robot)_(Earth-616)</td>\n",
       "      <td>Secret Identity</td>\n",
       "      <td>Bad Characters</td>\n",
       "      <td>NO</td>\n",
       "      <td>ND</td>\n",
       "      <td>ND</td>\n",
       "      <td>ND</td>\n",
       "      <td>ND</td>\n",
       "      <td>Agender Characters</td>\n",
       "      <td>Heterosexual Characters</td>\n",
       "      <td>Living Characters</td>\n",
       "      <td>1</td>\n",
       "      <td>October</td>\n",
       "      <td>1998</td>\n",
       "      <td>ND</td>\n",
       "      <td>ND</td>\n",
       "    </tr>\n",
       "    <tr>\n",
       "      <th>9</th>\n",
       "      <td>MARVEL</td>\n",
       "      <td>ND</td>\n",
       "      <td>KhL\\u0398G (Earth-616)</td>\n",
       "      <td>KhL%CE%98G_(Earth-616)</td>\n",
       "      <td>ND</td>\n",
       "      <td>Bad Characters</td>\n",
       "      <td>NO</td>\n",
       "      <td>ND</td>\n",
       "      <td>ND</td>\n",
       "      <td>Variable Eyes</td>\n",
       "      <td>Variable Hair</td>\n",
       "      <td>Agender Characters</td>\n",
       "      <td>Heterosexual Characters</td>\n",
       "      <td>Living Characters</td>\n",
       "      <td>3</td>\n",
       "      <td>November</td>\n",
       "      <td>1994</td>\n",
       "      <td>ND</td>\n",
       "      <td>ND</td>\n",
       "    </tr>\n",
       "  </tbody>\n",
       "</table>\n",
       "</div>"
      ],
      "text/plain": [
       "  UNIVERSE page_id                                     name  \\\n",
       "0   MARVEL      ND             Artificial being (Earth-616)   \n",
       "1   MARVEL      ND                     Batch-13 (Earth-616)   \n",
       "2   MARVEL      ND      Blockers Bots (Hazards) (Earth-616)   \n",
       "3   MARVEL      ND           Carnage (Symbiote) (Earth-616)   \n",
       "4   MARVEL      ND                     Changers (Earth-616)   \n",
       "5   MARVEL      ND            Deathwalker Prime (Earth-616)   \n",
       "6   MARVEL      ND                    Dimitrios (Earth-616)   \n",
       "7   MARVEL      ND              Gungnir (Robot) (Earth-616)   \n",
       "8   MARVEL      ND  Iron Man (Taskmaster Robot) (Earth-616)   \n",
       "9   MARVEL      ND                   KhL\\u0398G (Earth-616)   \n",
       "\n",
       "                                   urlslug                ID           ALIGN  \\\n",
       "0             Artificial_being_(Earth-616)                ND  Bad Characters   \n",
       "1                     Batch-13_(Earth-616)   Secret Identity  Bad Characters   \n",
       "2      Blockers_Bots_(Hazards)_(Earth-616)  No Dual Identity  Bad Characters   \n",
       "3           Carnage_(Symbiote)_(Earth-616)   Public Identity  Bad Characters   \n",
       "4                     Changers_(Earth-616)   Secret Identity  Bad Characters   \n",
       "5            Deathwalker_Prime_(Earth-616)  No Dual Identity  Bad Characters   \n",
       "6                    Dimitrios_(Earth-616)   Public Identity  Bad Characters   \n",
       "7              Gungnir_(Robot)_(Earth-616)  No Dual Identity  Bad Characters   \n",
       "8  Iron_Man_(Taskmaster_Robot)_(Earth-616)   Secret Identity  Bad Characters   \n",
       "9                   KhL%CE%98G_(Earth-616)                ND  Bad Characters   \n",
       "\n",
       "  IS_AVENGER AVENGER_STATUS AVENGER_YEAR           EYES           HAIR  \\\n",
       "0         NO             ND           ND             ND        No Hair   \n",
       "1         NO             ND           ND       Red Eyes        No Hair   \n",
       "2         NO             ND           ND     Green Eyes        No Hair   \n",
       "3         NO             ND           ND     White Eyes        No Hair   \n",
       "4         NO             ND           ND             ND        No Hair   \n",
       "5         NO             ND           ND    Orange Eyes        No Hair   \n",
       "6         NO             ND           ND             ND             ND   \n",
       "7         NO             ND           ND             ND        No Hair   \n",
       "8         NO             ND           ND             ND             ND   \n",
       "9         NO             ND           ND  Variable Eyes  Variable Hair   \n",
       "\n",
       "                  SEX                SEXUALITY              ALIVE APPEARANCES  \\\n",
       "0  Agender Characters  Heterosexual Characters  Living Characters           2   \n",
       "1  Agender Characters  Heterosexual Characters  Living Characters          ND   \n",
       "2  Agender Characters  Heterosexual Characters  Living Characters           1   \n",
       "3  Agender Characters  Heterosexual Characters  Living Characters          61   \n",
       "4  Agender Characters  Heterosexual Characters  Living Characters           1   \n",
       "5  Agender Characters  Heterosexual Characters  Living Characters           1   \n",
       "6  Agender Characters  Heterosexual Characters  Living Characters          10   \n",
       "7  Agender Characters  Heterosexual Characters  Living Characters           3   \n",
       "8  Agender Characters  Heterosexual Characters  Living Characters           1   \n",
       "9  Agender Characters  Heterosexual Characters  Living Characters           3   \n",
       "\n",
       "  FIRST_MONTH FIRST_YEAR DECEASED RESURRECTED  \n",
       "0   September       1966       ND          ND  \n",
       "1    February       1995       ND          ND  \n",
       "2          ND         ND       ND          ND  \n",
       "3       March       1992       ND          ND  \n",
       "4         May       1971       ND          ND  \n",
       "5          ND         ND       ND          ND  \n",
       "6          ND         ND       ND          ND  \n",
       "7          ND         ND       ND          ND  \n",
       "8     October       1998       ND          ND  \n",
       "9    November       1994       ND          ND  "
      ]
     },
     "execution_count": 7,
     "metadata": {},
     "output_type": "execute_result"
    }
   ],
   "source": [
    "superhero.head(10)"
   ]
  },
  {
   "cell_type": "code",
   "execution_count": 8,
   "metadata": {},
   "outputs": [
    {
     "name": "stdout",
     "output_type": "stream",
     "text": [
      "How many characters had their first year in 2000?\n"
     ]
    }
   ],
   "source": [
    "print(\"How many characters had their first year in 2000?\")"
   ]
  },
  {
   "cell_type": "code",
   "execution_count": 9,
   "metadata": {},
   "outputs": [
    {
     "name": "stdout",
     "output_type": "stream",
     "text": [
      "MARVEL    16524\n",
      "DC         6896\n",
      "Name: UNIVERSE, dtype: int64\n"
     ]
    },
    {
     "data": {
      "image/png": "[encoded data removed]",
      "text/plain": [
       "<Figure size 432x288 with 1 Axes>"
      ]
     },
     "metadata": {},
     "output_type": "display_data"
    }
   ],
   "source": [
    "# I printed this so I could know how many superheroes were in DC and how many were in Marvel\n",
    "# This is the start to me finding my data\n",
    "# I wanted to seperate the steps so I could see my data to look and see what applied \n",
    "# when I am combining my pieces of code. \n",
    "# I am doing the fonts= in hopes to change the font\n",
    "# I looked at a code from stackoverflow from user @aidnani8\n",
    "\n",
    "\n",
    "dc = superhero[\"UNIVERSE\"].value_counts()\n",
    "print(dc)\n",
    "\n",
    "font = {'fontname':'Comic Sans MS'}\n",
    "\n",
    "dc.plot(kind=\"bar\", color = [\"lightpink\", \"lavenderblush\"], fontsize= 12)\n",
    "plt.title(\"Number of Characters in each Universe\", fontsize=16, **font)\n",
    "plt.show()\n",
    "\n",
    "#this is me testing out how to build a bar/pie chart. \n",
    "# with this I hope to be able to apply this to my chart further down. "
   ]
  },
  {
   "cell_type": "code",
   "execution_count": 10,
   "metadata": {},
   "outputs": [
    {
     "name": "stdout",
     "output_type": "stream",
     "text": [
      "ND      881\n",
      "1993    764\n",
      "1994    716\n",
      "2006    687\n",
      "1992    636\n",
      "2010    608\n",
      "1988    594\n",
      "1989    591\n",
      "2008    573\n",
      "1990    534\n",
      "2009    532\n",
      "1997    523\n",
      "1991    508\n",
      "2011    506\n",
      "2005    504\n",
      "2007    496\n",
      "1996    495\n",
      "2000    476\n",
      "1995    474\n",
      "1987    436\n",
      "2002    426\n",
      "1998    420\n",
      "1999    411\n",
      "2004    388\n",
      "1986    381\n",
      "1985    371\n",
      "1984    367\n",
      "2003    361\n",
      "1976    357\n",
      "1983    354\n",
      "       ... \n",
      "1967    183\n",
      "1971    179\n",
      "2013    176\n",
      "1969    163\n",
      "1970    161\n",
      "1962    152\n",
      "1944    150\n",
      "1961    138\n",
      "1948    136\n",
      "1945    104\n",
      "1946     99\n",
      "1947     92\n",
      "1954     89\n",
      "1939     88\n",
      "1960     79\n",
      "1949     70\n",
      "1951     66\n",
      "1955     55\n",
      "1953     40\n",
      "1959     39\n",
      "1950     38\n",
      "1952     31\n",
      "1956     29\n",
      "1957     20\n",
      "1958     17\n",
      "1938     10\n",
      "1936      9\n",
      "1937      4\n",
      "1935      1\n",
      "2014      1\n",
      "Name: FIRST_YEAR, Length: 81, dtype: int64\n"
     ]
    }
   ],
   "source": [
    "# I printed this as year 2000 showing how may superheroes were in each year\n",
    "# I take this year2000 and transform it to get more specific\n",
    "# I didnt print a chart becuase this is only one part of my data and later on i add another variable in\n",
    "\n",
    "year2000 = superhero[\"FIRST_YEAR\"].value_counts()\n",
    "print(year2000)"
   ]
  },
  {
   "cell_type": "code",
   "execution_count": 11,
   "metadata": {},
   "outputs": [
    {
     "data": {
      "text/html": [
       "<div>\n",
       "<style scoped>\n",
       "    .dataframe tbody tr th:only-of-type {\n",
       "        vertical-align: middle;\n",
       "    }\n",
       "\n",
       "    .dataframe tbody tr th {\n",
       "        vertical-align: top;\n",
       "    }\n",
       "\n",
       "    .dataframe thead th {\n",
       "        text-align: right;\n",
       "    }\n",
       "</style>\n",
       "<table border=\"1\" class=\"dataframe\">\n",
       "  <thead>\n",
       "    <tr style=\"text-align: right;\">\n",
       "      <th></th>\n",
       "      <th>Is in Marvel</th>\n",
       "      <th>Is in DC</th>\n",
       "    </tr>\n",
       "  </thead>\n",
       "  <tbody>\n",
       "    <tr>\n",
       "      <th>First year was any other year</th>\n",
       "      <td>16200</td>\n",
       "      <td>324</td>\n",
       "    </tr>\n",
       "    <tr>\n",
       "      <th>Had first year in 2000</th>\n",
       "      <td>6744</td>\n",
       "      <td>152</td>\n",
       "    </tr>\n",
       "  </tbody>\n",
       "</table>\n",
       "</div>"
      ],
      "text/plain": [
       "                               Is in Marvel  Is in DC\n",
       "First year was any other year         16200       324\n",
       "Had first year in 2000                 6744       152"
      ]
     },
     "execution_count": 11,
     "metadata": {},
     "output_type": "execute_result"
    }
   ],
   "source": [
    "#This is imported from the Nice_crosstab file that Wendy gave us \n",
    "#Thanks Wendy!\n",
    "#I used this to make a good way to show my data \n",
    "#I was hoping that within this I can make it more clear to myself and anyone looking at the code \n",
    "#As it prints it is very clear as to what my question is\n",
    "\n",
    "allyears = pd.crosstab(index = superhero[\"UNIVERSE\"] == \"DC\", columns = superhero[\"FIRST_YEAR\"] == \"2000\")\n",
    "allyears.columns = [\"Is in Marvel\", \"Is in DC\"]\n",
    "allyears.index = [\"First year was any other year\",\"Had first year in 2000\"]\n",
    "allyears\n",
    "# After running my data I can see that there are 152 superheroes that had their first year in 2000 and was in the DC universe"
   ]
  },
  {
   "cell_type": "code",
   "execution_count": 12,
   "metadata": {},
   "outputs": [
    {
     "data": {
      "image/png": "[encoded data removed]",
      "text/plain": [
       "<Figure size 432x288 with 1 Axes>"
      ]
     },
     "metadata": {},
     "output_type": "display_data"
    }
   ],
   "source": [
    "# I am allowing this code to run and it is showing me that I took my pandas code and had it make a chart\n",
    "# Within my chart it is stating true and false to showing me all the characters that had their first year in 2000\n",
    "\n",
    "\n",
    "lessthan2000 = superhero.drop(superhero[superhero.FIRST_YEAR<\"2000\"].index)\n",
    "#the code above is stripping every year less than 2000 out of my code\n",
    "# the code below is stripping every year greater than 2000 out of my code\n",
    "greaterthan2000 = lessthan2000.drop(lessthan2000[lessthan2000.FIRST_YEAR>\"2000\"].index)\n",
    "allyears = greaterthan2000[\"UNIVERSE\"].value_counts()\n",
    "# this is showing the code in a way I can add it to my counts \n",
    "\n",
    "allyears.plot(kind=\"bar\", color = [\"oldlace\", \"palegoldenrod\"], fontsize= 12)\n",
    "plt.xticks(rotation=-20, fontsize = 12)\n",
    "plt.title(\"How many characters had their first year in 2000?\", fontsize=14, **font)\n",
    "plt.xlabel(\"UNIVERSE\", fontsize = 12)\n",
    "plt.ylabel(\"Number of Characters\", fontsize = 12)\n",
    "plt.show()\n",
    "\n",
    "# the code above is the one that prints my graph and with that I have changed the colors \n",
    "# the bottom tells us the universe and the number of characters that have had their first year in 2000"
   ]
  },
  {
   "cell_type": "markdown",
   "metadata": {},
   "source": [
    "\n",
    "\n",
    "<img src=\"https://vignette.wikia.nocookie.net/disney/images/d/d6/Buzz_lightyear_pose.jpg/revision/latest?cb=20141203033730\"  />\n",
    "\n",
    "## Data Analysis for graph 1 \n",
    "\n",
    "   There are many different variables that can change the conclusion that I am looking for so the purpose of my graph was to clearly separate the variables that can and will affect my data that I am trying to conclude. In this chart specifically, I found a way to separate my two universes, Marvel and DC and then found a way to integrate that data separation to also apply to the first years that superheroes had. I was really interested in the start of the 20th century so I asked the code to strip out all universes besides year 2000. The way that I made this happen was by building a drop function that first told the code to drop the all the years that came before year 2000; I called this piece of code \"lessthan2000\". After dropping everything less than year 2000 I knew that I had to drop everything greater than year 2000 so the way I did this was by providing a code that read \"greaterthan2000\" I later made them call to one another and then used that for my final code. \n",
    "   \n",
    "   The data that is getting shown here is very simple and not too extensive but I was excited about the conclusion that I got. With the help of many plot functions and prewritten codes from panda my data was able to conclude that there are about 348 superheroes in Marvel that had their first year in 2000 and there are about 150 superheroes in DC that had their first year in 2000. I think that the reason Marvel has about 2x the amount of superheroes that appear in year 2000 is because they have about 8,000 more superheroes than DC.     "
   ]
  },
  {
   "cell_type": "code",
   "execution_count": 13,
   "metadata": {},
   "outputs": [],
   "source": [
    "# shoutout to vignette wikia for my photo"
   ]
  },
  {
   "cell_type": "code",
   "execution_count": 14,
   "metadata": {
    "scrolled": true
   },
   "outputs": [
    {
     "name": "stdout",
     "output_type": "stream",
     "text": [
      "A total of 480 superheroes have had their first year in 2000.\n"
     ]
    }
   ],
   "source": [
    "print(\"A total of 480 superheroes have had their first year in 2000.\")"
   ]
  },
  {
   "cell_type": "code",
   "execution_count": 15,
   "metadata": {},
   "outputs": [
    {
     "name": "stdout",
     "output_type": "stream",
     "text": [
      "How many characters whose 1st appearane was post 2000 have had 100 or more appeaerances?\n"
     ]
    }
   ],
   "source": [
    "print(\"How many characters whose 1st appearane was post 2000 have had 100 or more appeaerances?\")"
   ]
  },
  {
   "cell_type": "code",
   "execution_count": 16,
   "metadata": {},
   "outputs": [
    {
     "name": "stdout",
     "output_type": "stream",
     "text": [
      "Heterosexual Characters    23118\n",
      "ND                           150\n",
      "Homosexual Characters        118\n",
      "Bisexual Characters           29\n",
      "Transgender Characters         2\n",
      "Genderfluid Characters         1\n",
      "Pansexual Characters           1\n",
      "Transvestites                  1\n",
      "Name: SEXUALITY, dtype: int64\n"
     ]
    }
   ],
   "source": [
    "# this is just showing me all of the sexuality with the characters\n",
    "# I did this so I can define the appearances and then use that in my code later on as well as for my graph.\n",
    "appearances = superhero[\"SEXUALITY\"].value_counts()\n",
    "print(appearances)"
   ]
  },
  {
   "cell_type": "code",
   "execution_count": 17,
   "metadata": {},
   "outputs": [
    {
     "name": "stdout",
     "output_type": "stream",
     "text": [
      "Bad Characters        9616\n",
      "Good Characters       7584\n",
      "ND                    3438\n",
      "Neutral Characters    2779\n",
      "Reformed Criminals       3\n",
      "Name: ALIGN, dtype: int64\n"
     ]
    }
   ],
   "source": [
    "appearance = superhero[\"ALIGN\"].value_counts()\n",
    "print(appearance)"
   ]
  },
  {
   "cell_type": "code",
   "execution_count": 18,
   "metadata": {},
   "outputs": [
    {
     "data": {
      "text/plain": [
       "Text(0,0.5,'Number of Characters')"
      ]
     },
     "execution_count": 18,
     "metadata": {},
     "output_type": "execute_result"
    },
    {
     "data": {
      "image/png": "[encoded data removed]",
      "text/plain": [
       "<Figure size 432x288 with 1 Axes>"
      ]
     },
     "metadata": {},
     "output_type": "display_data"
    }
   ],
   "source": [
    "#This is helping me make my data much easier to read and understand\n",
    "# We are looking for the columns that are each true and once it is set in stone I ccan adjust my chart to help everyone else understand.\n",
    "#I ran this to get rid of the ND just for the alignment\n",
    "# This is helping me extract the data that I do not need!\n",
    "#superhero_noND = superhero.drop(superhero[superhero.FIRST_YEAR == \"ND\"].index)\n",
    "#THANKS CONNER- you're the bomb\n",
    "\n",
    "dropND = superhero.drop(superhero[superhero.ALIGN == \"ND\"].index)\n",
    "dropNDs = dropND.drop(dropND[dropND.SEXUALITY == \"ND\"].index)\n",
    "\n",
    "dropbisexual = dropNDs.drop(dropNDs[dropNDs.SEXUALITY== \"Bisexual Characters\"].index)\n",
    "droptransgender = dropbisexual.drop(dropbisexual[dropbisexual.SEXUALITY== \"Transgender Characters\"].index)\n",
    "dropgenderfluid = droptransgender.drop(droptransgender[droptransgender.SEXUALITY== \"Genderfluid Characters\"].index)\n",
    "droptransvestites = dropgenderfluid.drop(dropgenderfluid[dropgenderfluid.SEXUALITY== \"Transvestites\"].index)\n",
    "droppansexual = droptransvestites.drop(droptransvestites[droptransvestites.SEXUALITY== \"Pansexual Characters\"].index)\n",
    "differentsex = droppansexual\n",
    "\n",
    "color_list1= [\"olive\", \"yellowgreen\", \"springgreen\", \"darkgreen\", \"darkcyan\" ]\n",
    "\n",
    "differentsex = pd.crosstab(differentsex['ALIGN'], differentsex['SEXUALITY']) \n",
    "differentsex.plot.area(color = color_list1,sharex=False);\n",
    "plt.title(\"Sexuality of Characters and their Alignment\", fontsize = 16)\n",
    "plt.xticks(rotation=-20, fontsize =10)\n",
    "plt.xticks(np.arange(5), ['Bad', 'Good', 'ND', 'Neutral', 'Reformed'])\n",
    "plt.yticks(fontsize = 10)\n",
    "plt.xlabel(\"Alignment of Character\", fontsize = 10)\n",
    "plt.ylabel(\"Number of Characters\", fontsize = 10)\n"
   ]
  },
  {
   "cell_type": "markdown",
   "metadata": {},
   "source": [
    "<img src= \"data:image/jpeg;base64,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\" />\n",
    "\n",
    "# Data analysis for graph 2\n",
    "\n",
    "This graph was really fun or me to make and I was excited with how it turned out as I think that it gave me the conclusion that I was looking for in the best way most comparable way to an outside viewer. This area graph is showing the number of characters that have a specific alignment and sexuality; as the peaks change we see how many characters are included in the count. Because the x-axis titles weren’t able to show up on my graph it made for an inconclusive data analysis however if the bug in madplotlib and pandas was removed, we would be able to see the alignment of the characters that include but are not limited to good, bad and neutral alignments. \n",
    "\n",
    "In this graph, I was looking for specific sexualities and didn't want the ones with little to no characters in the count to be included as I wanted to keep the shape as defined as possible making it execute the data in which it was showcasing. Because of this, I ended up dropping the bisexual, transgender, gender fluid, and pansexual characters so that all the sexualities that we see in my data is heterosexual, homosexual, transvestites and ND characters."
   ]
  },
  {
   "cell_type": "code",
   "execution_count": 19,
   "metadata": {},
   "outputs": [],
   "source": [
    "# shoutout to google for the help with this pictue"
   ]
  },
  {
   "cell_type": "code",
   "execution_count": 20,
   "metadata": {},
   "outputs": [],
   "source": [
    "# this is the third and final question "
   ]
  },
  {
   "cell_type": "code",
   "execution_count": 21,
   "metadata": {},
   "outputs": [
    {
     "name": "stdout",
     "output_type": "stream",
     "text": [
      "How many superheros have had which alignments since their first year?\n"
     ]
    }
   ],
   "source": [
    "print(\"How many superheros have had which alignments since their first year?\")"
   ]
  },
  {
   "cell_type": "code",
   "execution_count": 22,
   "metadata": {},
   "outputs": [
    {
     "name": "stdout",
     "output_type": "stream",
     "text": [
      "Bad Characters        9616\n",
      "Good Characters       7584\n",
      "ND                    3438\n",
      "Neutral Characters    2779\n",
      "Reformed Criminals       3\n",
      "Name: ALIGN, dtype: int64\n"
     ]
    }
   ],
   "source": [
    "# this code shows me all of the alignments that all of the superheros had\n",
    "# I see all of the different alignments that the characters have\n",
    "allalign = superhero[\"ALIGN\"].value_counts()\n",
    "print(allalign)"
   ]
  },
  {
   "cell_type": "code",
   "execution_count": 23,
   "metadata": {},
   "outputs": [],
   "source": [
    "# This is showing me what how many superheros had which kind of alignment over time \n",
    "# I had to make sure that they were running trying to get the same outcome\n",
    "# my code shows me the first year and the alignment that belongs with it. \n",
    "\n",
    "aligns = pd.crosstab(index = superhero[\"FIRST_YEAR\"], columns = superhero[\"ALIGN\"])\n"
   ]
  },
  {
   "cell_type": "code",
   "execution_count": 24,
   "metadata": {},
   "outputs": [
    {
     "data": {
      "image/png": "[encoded data removed]",
      "text/plain": [
       "<Figure size 432x288 with 1 Axes>"
      ]
     },
     "metadata": {},
     "output_type": "display_data"
    }
   ],
   "source": [
    "#this graph is showing me how many characters there are with their different alignments sorted by their first year in order.\n",
    "# the time is going from the latest year to now, the far right being now\n",
    "#this piece of code is dropping the ND's to try and get more clear data!\n",
    "\n",
    "dropped = superhero.drop(superhero[superhero.ALIGN== \"ND\"].index)\n",
    "dropped2= dropped.drop(dropped[dropped.FIRST_YEAR==\"ND\"].index)\n",
    "\n",
    "dropped2['FIRST_YEAR'] = pd.to_datetime(dropped2['FIRST_YEAR'])\n",
    "\n",
    "color_list = [\"blue\", \"lightblue\", \"midnightblue\", \"teal\", \"lightslategrey\"]\n",
    "\n",
    "dropped2 = pd.crosstab(dropped2['FIRST_YEAR'], dropped2['ALIGN'])\n",
    "\n",
    "dropped2.plot(color = color_list, sharex=False)\n",
    "plt.title(\"Number of New Characters by Alignment\")\n",
    "plt.xlabel(\"Years\", rotation=0, fontsize = 12)\n",
    "plt.ylabel(\"Number of Characters\", fontsize = 12)\n",
    "plt.show()"
   ]
  },
  {
   "cell_type": "markdown",
   "metadata": {},
   "source": [
    "<img src= \"https://i.pinimg.com/474x/99/8a/22/998a222979841f5322aa773245790dfb--types-of-bad.jpg\" />\n",
    "\n",
    "## Data Analysis for graph 3\n",
    "\n",
    "This third and final graph was by far my favorite graph to make as I think that it showcases the most understanding data that was relevant to what I was looking for. I was looking to see the different years and how the alignments have changed throughout the years. We see in the chart how there are different lines for the different alignments of each character, the y axis shows the number of characters that are included and the x-axis shows the years over time. In this graph the x axis ticks are missing making it really hard to see what specific year we are looking at but if we were to just eyeball it we would see the years to the farthest left start at 1937 and go up until 2017 which we could find furthest to the right. \n",
    "\n",
    "This was cool to tie in with my second graph because I was able to see how the alignments happened over time and then look and compare each set of data to see not only the alignments and their changes over time but also the different sexualities of the characters. I love to see how they tied within one another and the ways that the number of characters changed not only over time but also with the sexualities of each of the characters."
   ]
  },
  {
   "cell_type": "code",
   "execution_count": 25,
   "metadata": {},
   "outputs": [
    {
     "name": "stdout",
     "output_type": "stream",
     "text": [
      "This timeline is showing me the alignment that the characters have had since the first year\n"
     ]
    }
   ],
   "source": [
    "print(\"This timeline is showing me the alignment that the characters have had since the first year\")"
   ]
  },
  {
   "cell_type": "markdown",
   "metadata": {},
   "source": [
    "## Findings and Limitations pt.4 \n",
    "\n",
    "It was really interesting to see the different ways that we could manipulate our findings in such a way that we would gain a specific set of data that is to be included within my data plot. Being able to look at the chart and only the specific alignments and specific sexualities was the most interesting thing to me becuase I was finding that we could just really focus in on the greater more promonate percentages which allowed for the graphs to look and feel more accurate to the data analysis question that I was asking. This really became an important roll specifically when looking at the different universes as I was able to see the different limitations that are included within each and how they cooresponded together. After looking at all of the graphs as one, I was able to easily compare and contrast different variables so that I could see that affects that the different amount of characters. I found that as time went on the number of characters increased and it was spiking the different alignments that were present at each time,  around year 2000 we had a lot less new characters added but the alignment of bad characters went up significantly. As that changed we saw in our graph showing the alignment and sexuality change and we were able to see the different variables working and playing off of one another. \n",
    "\n"
   ]
  },
  {
   "cell_type": "code",
   "execution_count": 26,
   "metadata": {},
   "outputs": [],
   "source": [
    "# I was able to look at the spreadsheet and I feel confident in all of my numbers.\n",
    "#but I don't know if any of the information or data is correct"
   ]
  },
  {
   "cell_type": "markdown",
   "metadata": {},
   "source": [
    "## Acknowledgments pt. 5\n",
    "\n",
    "In this data narative, I worked a lot with Wendy and was able to take her codes she had written and remix and reuse them. I also would like to give a huge thank you to Conner as he helped me a lot with changing my data questions along with helping me debug things in my code. I used different references from FiveThirtyEight as well as stackoverflow for a lot of questions that couldn't have been answered on my own. The last person I would like to thank is Anthony for helping me understand what is needed to plot in my data as well as giving me a lot of support in what is happening in my code. "
   ]
  },
  {
   "cell_type": "code",
   "execution_count": null,
   "metadata": {},
   "outputs": [],
   "source": []
  }
 ],
 "metadata": {
  "kernelspec": {
   "display_name": "Python 3",
   "language": "python",
   "name": "python3"
  },
  "language_info": {
   "codemirror_mode": {
    "name": "ipython",
    "version": 3
   },
   "file_extension": ".py",
   "mimetype": "text/x-python",
   "name": "python",
   "nbconvert_exporter": "python",
   "pygments_lexer": "ipython3",
   "version": "3.6.5"
  }
 },
 "nbformat": 4,
 "nbformat_minor": 2
}
